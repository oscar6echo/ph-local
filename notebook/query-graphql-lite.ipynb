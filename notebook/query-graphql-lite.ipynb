{
  "cells": [
    {
      "cell_type": "code",
      "execution_count": null,
      "metadata": {
        "trusted": true
      },
      "outputs": [],
      "source": [
        "import os\n",
        "import json\n",
        "import pandas as pd\n",
        "\n",
        "from pyodide.http import pyfetch\n"
      ]
    },
    {
      "cell_type": "code",
      "execution_count": null,
      "metadata": {
        "trusted": true
      },
      "outputs": [],
      "source": [
        "URL_HASURA = 'http://localhost:8091'\n",
        "HASURA_ADMIN_SECRET = 'osolemio'\n",
        "\n",
        "class Query:\n",
        "    def __init__(self):\n",
        "        self.url = f'{URL_HASURA}/v1/graphql'\n",
        "        \n",
        "    async def run(self, query, variables):\n",
        "        token = HASURA_ADMIN_SECRET\n",
        "        headers = {\n",
        "            'content-type': 'application/json',\n",
        "            'x-hasura-admin-secret': HASURA_ADMIN_SECRET,\n",
        "        }\n",
        "        body = json.dumps({'query': query, 'variables': variables})\n",
        "        resp = await pyfetch(self.url,\n",
        "                            method='post',\n",
        "                            headers=headers,\n",
        "                            body=body)\n",
        "        txt = await resp.string()\n",
        "        self.res = json.loads(txt)\n",
        "        return self.res\n",
        "\n",
        "q = Query()"
      ]
    },
    {
      "cell_type": "code",
      "execution_count": null,
      "metadata": {
        "trusted": true
      },
      "outputs": [],
      "source": [
        "query = '''\n",
        "query MyQuery {\n",
        "  _onetomany_article(limit: 3) {\n",
        "    author_id\n",
        "    id\n",
        "    rating\n",
        "    title\n",
        "  }\n",
        "}\n",
        "'''\n",
        "variables = {}\n",
        "res = await q.run(query, variables)\n",
        "\n",
        "if 'errors' in res:\n",
        "    print(res['errors'])\n",
        "else:    \n",
        "    data = []\n",
        "    for e in res['data']['_onetomany_article']:\n",
        "        data.append(e)\n",
        "\n",
        "    df = pd.DataFrame(data)\n",
        "    display(df)"
      ]
    },
    {
      "cell_type": "code",
      "execution_count": null,
      "metadata": {},
      "outputs": [],
      "source": []
    },
    {
      "cell_type": "code",
      "execution_count": null,
      "metadata": {},
      "outputs": [],
      "source": []
    }
  ],
  "metadata": {
    "kernelspec": {
      "display_name": "Python (Pyodide)",
      "language": "python",
      "name": "python"
    },
    "language_info": {
      "codemirror_mode": {
        "name": "python",
        "version": 3
      },
      "file_extension": ".py",
      "mimetype": "text/x-python",
      "name": "python",
      "nbconvert_exporter": "python",
      "pygments_lexer": "ipython3",
      "version": "3.8"
    }
  },
  "nbformat": 4,
  "nbformat_minor": 4
}
