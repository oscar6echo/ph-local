{
  "metadata": {
    "language_info": {
      "codemirror_mode": {
        "name": "python",
        "version": 3
      },
      "file_extension": ".py",
      "mimetype": "text/x-python",
      "name": "python",
      "nbconvert_exporter": "python",
      "pygments_lexer": "ipython3",
      "version": "3.8"
    },
    "kernelspec": {
      "name": "python",
      "display_name": "Python (Pyodide)",
      "language": "python"
    }
  },
  "nbformat_minor": 4,
  "nbformat": 4,
  "cells": [
    {
      "cell_type": "code",
      "source": "import os\nimport json\nimport pandas as pd\n\nfrom pyodide.http import pyfetch\n",
      "metadata": {
        "trusted": true
      },
      "execution_count": null,
      "outputs": []
    },
    {
      "cell_type": "code",
      "source": "URL_HASURA = 'http://localhost:8080'\nHASURA_ADMIN_SECRET = 'osolemio'\n\nclass Query:\n    def __init__(self):\n        self.url = f'{URL_HASURA}/v1/graphql'\n        \n    async def run(self, query, variables):\n        token = HASURA_ADMIN_SECRET\n        headers = {\n            'content-type': 'application/json',\n            'x-hasura-admin-secret': HASURA_ADMIN_SECRET,\n        }\n        body = json.dumps({'query': query, 'variables': variables})\n        resp = await pyfetch(self.url,\n                            method='post',\n                            headers=headers,\n                            body=body)\n        txt = await resp.string()\n        self.res = json.loads(txt)\n        return self.res\n\nq = Query()",
      "metadata": {
        "trusted": true
      },
      "execution_count": null,
      "outputs": []
    },
    {
      "cell_type": "code",
      "source": "query = '''\nquery MyQuery {\n  _onetomany_article(limit: 3) {\n    author_id\n    id\n    rating\n    title\n  }\n}\n'''\nvariables = {}\nres = await q.run(query, variables)\n\nif 'errors' in res:\n    print(res['errors'])\nelse:    \n    data = []\n    for e in res['data']['_onetomany_article']:\n        data.append(e)\n\n    df = pd.DataFrame(data)\n    display(df)",
      "metadata": {
        "trusted": true
      },
      "execution_count": null,
      "outputs": []
    },
    {
      "cell_type": "code",
      "source": "",
      "metadata": {},
      "execution_count": null,
      "outputs": []
    },
    {
      "cell_type": "code",
      "source": "",
      "metadata": {},
      "execution_count": null,
      "outputs": []
    }
  ]
}