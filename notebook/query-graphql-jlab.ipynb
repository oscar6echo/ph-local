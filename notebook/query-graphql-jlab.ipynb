{
 "cells": [
  {
   "cell_type": "code",
   "execution_count": 1,
   "metadata": {},
   "outputs": [],
   "source": [
    "import os\n",
    "import json\n",
    "import requests as rq\n",
    "import pandas as pd"
   ]
  },
  {
   "cell_type": "code",
   "execution_count": 2,
   "metadata": {},
   "outputs": [],
   "source": [
    "URL_HASURA = 'http://localhost:8080'\n",
    "HASURA_ADMIN_SECRET = 'osolemio'\n",
    "\n",
    "class Query:\n",
    "    def __init__(self):\n",
    "        self.url = f'{URL_HASURA}/v1/graphql'\n",
    "        \n",
    "    def run(self, query, variables):\n",
    "        token = HASURA_ADMIN_SECRET\n",
    "        headers = {\n",
    "            'content-type': 'application/json',\n",
    "            'x-hasura-admin-secret': HASURA_ADMIN_SECRET,\n",
    "        }\n",
    "        self.res = rq.post(self.url,\n",
    "                           headers=headers,\n",
    "                           json={'query': query, 'variables': variables})\n",
    "        if self.res.status_code != 200:\n",
    "            return {'error': {'status_code': self.res.status_code,\n",
    "                              'content': self.res.content}}\n",
    "        return self.res.json()\n",
    "\n",
    "q = Query()"
   ]
  },
  {
   "cell_type": "code",
   "execution_count": 3,
   "metadata": {},
   "outputs": [
    {
     "data": {
      "text/html": [
       "<div>\n",
       "<style scoped>\n",
       "    .dataframe tbody tr th:only-of-type {\n",
       "        vertical-align: middle;\n",
       "    }\n",
       "\n",
       "    .dataframe tbody tr th {\n",
       "        vertical-align: top;\n",
       "    }\n",
       "\n",
       "    .dataframe thead th {\n",
       "        text-align: right;\n",
       "    }\n",
       "</style>\n",
       "<table border=\"1\" class=\"dataframe\">\n",
       "  <thead>\n",
       "    <tr style=\"text-align: right;\">\n",
       "      <th></th>\n",
       "      <th>author_id</th>\n",
       "      <th>id</th>\n",
       "      <th>rating</th>\n",
       "      <th>title</th>\n",
       "    </tr>\n",
       "  </thead>\n",
       "  <tbody>\n",
       "    <tr>\n",
       "      <th>0</th>\n",
       "      <td>3</td>\n",
       "      <td>1</td>\n",
       "      <td>3</td>\n",
       "      <td>Oh, hi , Marty. I didn't hear you come in. Fas...</td>\n",
       "    </tr>\n",
       "    <tr>\n",
       "      <th>1</th>\n",
       "      <td>1</td>\n",
       "      <td>2</td>\n",
       "      <td>1</td>\n",
       "      <td>Erased from existence.</td>\n",
       "    </tr>\n",
       "    <tr>\n",
       "      <th>2</th>\n",
       "      <td>6</td>\n",
       "      <td>3</td>\n",
       "      <td>2</td>\n",
       "      <td>No no no, Doc, I just got here, okay, Jennifer...</td>\n",
       "    </tr>\n",
       "  </tbody>\n",
       "</table>\n",
       "</div>"
      ],
      "text/plain": [
       "   author_id  id  rating                                              title\n",
       "0          3   1       3  Oh, hi , Marty. I didn't hear you come in. Fas...\n",
       "1          1   2       1                             Erased from existence.\n",
       "2          6   3       2  No no no, Doc, I just got here, okay, Jennifer..."
      ]
     },
     "metadata": {},
     "output_type": "display_data"
    },
    {
     "name": "stdout",
     "output_type": "stream",
     "text": [
      "CPU times: user 10.6 ms, sys: 1.99 ms, total: 12.6 ms\n",
      "Wall time: 13.4 ms\n"
     ]
    }
   ],
   "source": [
    "%%time\n",
    "\n",
    "query = '''\n",
    "query MyQuery {\n",
    "  _onetomany_article(limit: 3) {\n",
    "    author_id\n",
    "    id\n",
    "    rating\n",
    "    title\n",
    "  }\n",
    "}\n",
    "'''\n",
    "variables = {}\n",
    "res = q.run(query, variables)\n",
    "\n",
    "if 'errors' in res:\n",
    "    print(res['errors'])\n",
    "else:    \n",
    "    data = []\n",
    "    for e in res['data']['_onetomany_article']:\n",
    "        data.append(e)\n",
    "\n",
    "    df = pd.DataFrame(data)\n",
    "    display(df)"
   ]
  },
  {
   "cell_type": "code",
   "execution_count": null,
   "metadata": {},
   "outputs": [],
   "source": []
  },
  {
   "cell_type": "code",
   "execution_count": null,
   "metadata": {},
   "outputs": [],
   "source": []
  }
 ],
 "metadata": {
  "kernelspec": {
   "display_name": "test",
   "language": "python",
   "name": "test"
  },
  "language_info": {
   "codemirror_mode": {
    "name": "ipython",
    "version": 3
   },
   "file_extension": ".py",
   "mimetype": "text/x-python",
   "name": "python",
   "nbconvert_exporter": "python",
   "pygments_lexer": "ipython3",
   "version": "3.10.6"
  }
 },
 "nbformat": 4,
 "nbformat_minor": 4
}
